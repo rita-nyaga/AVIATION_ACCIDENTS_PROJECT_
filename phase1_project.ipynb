{
 "cells": [
  {
   "cell_type": "markdown",
   "metadata": {},
   "source": [
    "**AVIATION ACCIDENTS**\n"
   ]
  },
  {
   "cell_type": "markdown",
   "id": "c8f45d82",
   "metadata": {},
   "source": [
    "**INTRODUCTION**\n",
    "\n",
    "The company wants to diversify its portfolio and its interested in purchasing and operating airplanes for commercial and private enterprises. We are going to use the data from National Transportation Safety Board to give us insights on the aviation industry, the risks involved and how to mitigate them."
   ]
  },
  {
   "cell_type": "markdown",
   "id": "32c47b51",
   "metadata": {},
   "source": [
    "**OBJECTIVE STATEMENT**\n",
    "\n",
    "We are going to load the data;AviationData.csv, clean it and draw insights from it. We will have an understanding of the aviation industry operations and get to know some of the risk factors that contribute to the accidents in the industry.Then we will draw recommendations from the data that will help the company to thrive in the industry.\n"
   ]
  },
  {
   "cell_type": "markdown",
   "id": "270234b7",
   "metadata": {},
   "source": [
    "**DATA UNDERSTANDING**\n",
    "\n",
    "In this project we are going to use data from the National Transportation Safety Board, AviationData.csv. The data has been collected from 1962 to 2023.The data includes aviation accidents data in the United States and international waters."
   ]
  },
  {
   "cell_type": "markdown",
   "id": "68aebc38",
   "metadata": {},
   "source": [
    "**BUSINESS UNDERSTANDING**\n",
    "\n",
    "From the data,we are supposed to derive how best we can get into the business and thrive in it. To do this we need to understand the risk factors involved and how best to mitigate them to avoid making losses.\n",
    "We are going to answer the three questions below  to open our minds on the real challenges affecting the aviation industry and hence drive our decision making.\n",
    "1. Identify plane engine types, model and makes that are riskiest.\n",
    "2. Identify which weather condition contribute to most accidents.\n",
    "3. Identify most risky locations where accidents are more severe.\n"
   ]
  },
  {
   "cell_type": "markdown",
   "id": "3bbb47f0",
   "metadata": {},
   "source": [
    "**REQUIREMENTS**\n",
    "1. Load the dataset\n",
    "2. Identify and deal with missing  values\n",
    "3. Aggregate our data and do visualizations"
   ]
  },
  {
   "cell_type": "markdown",
   "id": "defa3503",
   "metadata": {},
   "source": [
    "**1.Importing libraries**\n",
    "\n",
    "We are going to import libraries that are going to help us with data exploration and visualization. We will use pandas,matplotlib and numpy.\n",
    "\n"
   ]
  },
  {
   "cell_type": "code",
   "execution_count": 1,
   "metadata": {},
   "outputs": [],
   "source": [
    "#Importing libraries\n",
    "import pandas as pd\n",
    "import numpy as np\n",
    "import matplotlib.pyplot as plt\n",
    "%matplotlib inline"
   ]
  },
  {
   "cell_type": "markdown",
   "id": "40ad3c89",
   "metadata": {},
   "source": [
    "**2.Loading our csv file**\n",
    "\n",
    "We are going to load our csv file to a pandas DataFrame and name it df. We are also going to get more information on our dataset by using .info() and .shape to check the number if rows and columns in our dataset"
   ]
  },
  {
   "cell_type": "code",
   "execution_count": 2,
   "metadata": {},
   "outputs": [
    {
     "data": {
      "text/html": [
       "<div>\n",
       "<style scoped>\n",
       "    .dataframe tbody tr th:only-of-type {\n",
       "        vertical-align: middle;\n",
       "    }\n",
       "\n",
       "    .dataframe tbody tr th {\n",
       "        vertical-align: top;\n",
       "    }\n",
       "\n",
       "    .dataframe thead th {\n",
       "        text-align: right;\n",
       "    }\n",
       "</style>\n",
       "<table border=\"1\" class=\"dataframe\">\n",
       "  <thead>\n",
       "    <tr style=\"text-align: right;\">\n",
       "      <th></th>\n",
       "      <th>Event.Id</th>\n",
       "      <th>Investigation.Type</th>\n",
       "      <th>Accident.Number</th>\n",
       "      <th>Event.Date</th>\n",
       "      <th>Location</th>\n",
       "      <th>Country</th>\n",
       "      <th>Latitude</th>\n",
       "      <th>Longitude</th>\n",
       "      <th>Airport.Code</th>\n",
       "      <th>Airport.Name</th>\n",
       "      <th>...</th>\n",
       "      <th>Purpose.of.flight</th>\n",
       "      <th>Air.carrier</th>\n",
       "      <th>Total.Fatal.Injuries</th>\n",
       "      <th>Total.Serious.Injuries</th>\n",
       "      <th>Total.Minor.Injuries</th>\n",
       "      <th>Total.Uninjured</th>\n",
       "      <th>Weather.Condition</th>\n",
       "      <th>Broad.phase.of.flight</th>\n",
       "      <th>Report.Status</th>\n",
       "      <th>Publication.Date</th>\n",
       "    </tr>\n",
       "  </thead>\n",
       "  <tbody>\n",
       "    <tr>\n",
       "      <th>0</th>\n",
       "      <td>20001218X45444</td>\n",
       "      <td>Accident</td>\n",
       "      <td>SEA87LA080</td>\n",
       "      <td>1948-10-24</td>\n",
       "      <td>MOOSE CREEK, ID</td>\n",
       "      <td>United States</td>\n",
       "      <td>NaN</td>\n",
       "      <td>NaN</td>\n",
       "      <td>NaN</td>\n",
       "      <td>NaN</td>\n",
       "      <td>...</td>\n",
       "      <td>Personal</td>\n",
       "      <td>NaN</td>\n",
       "      <td>2.0</td>\n",
       "      <td>0.0</td>\n",
       "      <td>0.0</td>\n",
       "      <td>0.0</td>\n",
       "      <td>UNK</td>\n",
       "      <td>Cruise</td>\n",
       "      <td>Probable Cause</td>\n",
       "      <td>NaN</td>\n",
       "    </tr>\n",
       "    <tr>\n",
       "      <th>1</th>\n",
       "      <td>20001218X45447</td>\n",
       "      <td>Accident</td>\n",
       "      <td>LAX94LA336</td>\n",
       "      <td>1962-07-19</td>\n",
       "      <td>BRIDGEPORT, CA</td>\n",
       "      <td>United States</td>\n",
       "      <td>NaN</td>\n",
       "      <td>NaN</td>\n",
       "      <td>NaN</td>\n",
       "      <td>NaN</td>\n",
       "      <td>...</td>\n",
       "      <td>Personal</td>\n",
       "      <td>NaN</td>\n",
       "      <td>4.0</td>\n",
       "      <td>0.0</td>\n",
       "      <td>0.0</td>\n",
       "      <td>0.0</td>\n",
       "      <td>UNK</td>\n",
       "      <td>Unknown</td>\n",
       "      <td>Probable Cause</td>\n",
       "      <td>19-09-1996</td>\n",
       "    </tr>\n",
       "    <tr>\n",
       "      <th>2</th>\n",
       "      <td>20061025X01555</td>\n",
       "      <td>Accident</td>\n",
       "      <td>NYC07LA005</td>\n",
       "      <td>1974-08-30</td>\n",
       "      <td>Saltville, VA</td>\n",
       "      <td>United States</td>\n",
       "      <td>36.922223</td>\n",
       "      <td>-81.878056</td>\n",
       "      <td>NaN</td>\n",
       "      <td>NaN</td>\n",
       "      <td>...</td>\n",
       "      <td>Personal</td>\n",
       "      <td>NaN</td>\n",
       "      <td>3.0</td>\n",
       "      <td>NaN</td>\n",
       "      <td>NaN</td>\n",
       "      <td>NaN</td>\n",
       "      <td>IMC</td>\n",
       "      <td>Cruise</td>\n",
       "      <td>Probable Cause</td>\n",
       "      <td>26-02-2007</td>\n",
       "    </tr>\n",
       "    <tr>\n",
       "      <th>3</th>\n",
       "      <td>20001218X45448</td>\n",
       "      <td>Accident</td>\n",
       "      <td>LAX96LA321</td>\n",
       "      <td>1977-06-19</td>\n",
       "      <td>EUREKA, CA</td>\n",
       "      <td>United States</td>\n",
       "      <td>NaN</td>\n",
       "      <td>NaN</td>\n",
       "      <td>NaN</td>\n",
       "      <td>NaN</td>\n",
       "      <td>...</td>\n",
       "      <td>Personal</td>\n",
       "      <td>NaN</td>\n",
       "      <td>2.0</td>\n",
       "      <td>0.0</td>\n",
       "      <td>0.0</td>\n",
       "      <td>0.0</td>\n",
       "      <td>IMC</td>\n",
       "      <td>Cruise</td>\n",
       "      <td>Probable Cause</td>\n",
       "      <td>12-09-2000</td>\n",
       "    </tr>\n",
       "    <tr>\n",
       "      <th>4</th>\n",
       "      <td>20041105X01764</td>\n",
       "      <td>Accident</td>\n",
       "      <td>CHI79FA064</td>\n",
       "      <td>1979-08-02</td>\n",
       "      <td>Canton, OH</td>\n",
       "      <td>United States</td>\n",
       "      <td>NaN</td>\n",
       "      <td>NaN</td>\n",
       "      <td>NaN</td>\n",
       "      <td>NaN</td>\n",
       "      <td>...</td>\n",
       "      <td>Personal</td>\n",
       "      <td>NaN</td>\n",
       "      <td>1.0</td>\n",
       "      <td>2.0</td>\n",
       "      <td>NaN</td>\n",
       "      <td>0.0</td>\n",
       "      <td>VMC</td>\n",
       "      <td>Approach</td>\n",
       "      <td>Probable Cause</td>\n",
       "      <td>16-04-1980</td>\n",
       "    </tr>\n",
       "    <tr>\n",
       "      <th>...</th>\n",
       "      <td>...</td>\n",
       "      <td>...</td>\n",
       "      <td>...</td>\n",
       "      <td>...</td>\n",
       "      <td>...</td>\n",
       "      <td>...</td>\n",
       "      <td>...</td>\n",
       "      <td>...</td>\n",
       "      <td>...</td>\n",
       "      <td>...</td>\n",
       "      <td>...</td>\n",
       "      <td>...</td>\n",
       "      <td>...</td>\n",
       "      <td>...</td>\n",
       "      <td>...</td>\n",
       "      <td>...</td>\n",
       "      <td>...</td>\n",
       "      <td>...</td>\n",
       "      <td>...</td>\n",
       "      <td>...</td>\n",
       "      <td>...</td>\n",
       "    </tr>\n",
       "    <tr>\n",
       "      <th>88884</th>\n",
       "      <td>20221227106491</td>\n",
       "      <td>Accident</td>\n",
       "      <td>ERA23LA093</td>\n",
       "      <td>2022-12-26</td>\n",
       "      <td>Annapolis, MD</td>\n",
       "      <td>United States</td>\n",
       "      <td>NaN</td>\n",
       "      <td>NaN</td>\n",
       "      <td>NaN</td>\n",
       "      <td>NaN</td>\n",
       "      <td>...</td>\n",
       "      <td>Personal</td>\n",
       "      <td>NaN</td>\n",
       "      <td>0.0</td>\n",
       "      <td>1.0</td>\n",
       "      <td>0.0</td>\n",
       "      <td>0.0</td>\n",
       "      <td>NaN</td>\n",
       "      <td>NaN</td>\n",
       "      <td>NaN</td>\n",
       "      <td>29-12-2022</td>\n",
       "    </tr>\n",
       "    <tr>\n",
       "      <th>88885</th>\n",
       "      <td>20221227106494</td>\n",
       "      <td>Accident</td>\n",
       "      <td>ERA23LA095</td>\n",
       "      <td>2022-12-26</td>\n",
       "      <td>Hampton, NH</td>\n",
       "      <td>United States</td>\n",
       "      <td>NaN</td>\n",
       "      <td>NaN</td>\n",
       "      <td>NaN</td>\n",
       "      <td>NaN</td>\n",
       "      <td>...</td>\n",
       "      <td>NaN</td>\n",
       "      <td>NaN</td>\n",
       "      <td>0.0</td>\n",
       "      <td>0.0</td>\n",
       "      <td>0.0</td>\n",
       "      <td>0.0</td>\n",
       "      <td>NaN</td>\n",
       "      <td>NaN</td>\n",
       "      <td>NaN</td>\n",
       "      <td>NaN</td>\n",
       "    </tr>\n",
       "    <tr>\n",
       "      <th>88886</th>\n",
       "      <td>20221227106497</td>\n",
       "      <td>Accident</td>\n",
       "      <td>WPR23LA075</td>\n",
       "      <td>2022-12-26</td>\n",
       "      <td>Payson, AZ</td>\n",
       "      <td>United States</td>\n",
       "      <td>341525N</td>\n",
       "      <td>1112021W</td>\n",
       "      <td>PAN</td>\n",
       "      <td>PAYSON</td>\n",
       "      <td>...</td>\n",
       "      <td>Personal</td>\n",
       "      <td>NaN</td>\n",
       "      <td>0.0</td>\n",
       "      <td>0.0</td>\n",
       "      <td>0.0</td>\n",
       "      <td>1.0</td>\n",
       "      <td>VMC</td>\n",
       "      <td>NaN</td>\n",
       "      <td>NaN</td>\n",
       "      <td>27-12-2022</td>\n",
       "    </tr>\n",
       "    <tr>\n",
       "      <th>88887</th>\n",
       "      <td>20221227106498</td>\n",
       "      <td>Accident</td>\n",
       "      <td>WPR23LA076</td>\n",
       "      <td>2022-12-26</td>\n",
       "      <td>Morgan, UT</td>\n",
       "      <td>United States</td>\n",
       "      <td>NaN</td>\n",
       "      <td>NaN</td>\n",
       "      <td>NaN</td>\n",
       "      <td>NaN</td>\n",
       "      <td>...</td>\n",
       "      <td>Personal</td>\n",
       "      <td>MC CESSNA 210N LLC</td>\n",
       "      <td>0.0</td>\n",
       "      <td>0.0</td>\n",
       "      <td>0.0</td>\n",
       "      <td>0.0</td>\n",
       "      <td>NaN</td>\n",
       "      <td>NaN</td>\n",
       "      <td>NaN</td>\n",
       "      <td>NaN</td>\n",
       "    </tr>\n",
       "    <tr>\n",
       "      <th>88888</th>\n",
       "      <td>20221230106513</td>\n",
       "      <td>Accident</td>\n",
       "      <td>ERA23LA097</td>\n",
       "      <td>2022-12-29</td>\n",
       "      <td>Athens, GA</td>\n",
       "      <td>United States</td>\n",
       "      <td>NaN</td>\n",
       "      <td>NaN</td>\n",
       "      <td>NaN</td>\n",
       "      <td>NaN</td>\n",
       "      <td>...</td>\n",
       "      <td>Personal</td>\n",
       "      <td>NaN</td>\n",
       "      <td>0.0</td>\n",
       "      <td>1.0</td>\n",
       "      <td>0.0</td>\n",
       "      <td>1.0</td>\n",
       "      <td>NaN</td>\n",
       "      <td>NaN</td>\n",
       "      <td>NaN</td>\n",
       "      <td>30-12-2022</td>\n",
       "    </tr>\n",
       "  </tbody>\n",
       "</table>\n",
       "<p>88889 rows × 31 columns</p>\n",
       "</div>"
      ],
      "text/plain": [
       "             Event.Id Investigation.Type Accident.Number  Event.Date  \\\n",
       "0      20001218X45444           Accident      SEA87LA080  1948-10-24   \n",
       "1      20001218X45447           Accident      LAX94LA336  1962-07-19   \n",
       "2      20061025X01555           Accident      NYC07LA005  1974-08-30   \n",
       "3      20001218X45448           Accident      LAX96LA321  1977-06-19   \n",
       "4      20041105X01764           Accident      CHI79FA064  1979-08-02   \n",
       "...               ...                ...             ...         ...   \n",
       "88884  20221227106491           Accident      ERA23LA093  2022-12-26   \n",
       "88885  20221227106494           Accident      ERA23LA095  2022-12-26   \n",
       "88886  20221227106497           Accident      WPR23LA075  2022-12-26   \n",
       "88887  20221227106498           Accident      WPR23LA076  2022-12-26   \n",
       "88888  20221230106513           Accident      ERA23LA097  2022-12-29   \n",
       "\n",
       "              Location        Country   Latitude   Longitude Airport.Code  \\\n",
       "0      MOOSE CREEK, ID  United States        NaN         NaN          NaN   \n",
       "1       BRIDGEPORT, CA  United States        NaN         NaN          NaN   \n",
       "2        Saltville, VA  United States  36.922223  -81.878056          NaN   \n",
       "3           EUREKA, CA  United States        NaN         NaN          NaN   \n",
       "4           Canton, OH  United States        NaN         NaN          NaN   \n",
       "...                ...            ...        ...         ...          ...   \n",
       "88884    Annapolis, MD  United States        NaN         NaN          NaN   \n",
       "88885      Hampton, NH  United States        NaN         NaN          NaN   \n",
       "88886       Payson, AZ  United States    341525N    1112021W          PAN   \n",
       "88887       Morgan, UT  United States        NaN         NaN          NaN   \n",
       "88888       Athens, GA  United States        NaN         NaN          NaN   \n",
       "\n",
       "      Airport.Name  ... Purpose.of.flight         Air.carrier  \\\n",
       "0              NaN  ...          Personal                 NaN   \n",
       "1              NaN  ...          Personal                 NaN   \n",
       "2              NaN  ...          Personal                 NaN   \n",
       "3              NaN  ...          Personal                 NaN   \n",
       "4              NaN  ...          Personal                 NaN   \n",
       "...            ...  ...               ...                 ...   \n",
       "88884          NaN  ...          Personal                 NaN   \n",
       "88885          NaN  ...               NaN                 NaN   \n",
       "88886       PAYSON  ...          Personal                 NaN   \n",
       "88887          NaN  ...          Personal  MC CESSNA 210N LLC   \n",
       "88888          NaN  ...          Personal                 NaN   \n",
       "\n",
       "      Total.Fatal.Injuries Total.Serious.Injuries Total.Minor.Injuries  \\\n",
       "0                      2.0                    0.0                  0.0   \n",
       "1                      4.0                    0.0                  0.0   \n",
       "2                      3.0                    NaN                  NaN   \n",
       "3                      2.0                    0.0                  0.0   \n",
       "4                      1.0                    2.0                  NaN   \n",
       "...                    ...                    ...                  ...   \n",
       "88884                  0.0                    1.0                  0.0   \n",
       "88885                  0.0                    0.0                  0.0   \n",
       "88886                  0.0                    0.0                  0.0   \n",
       "88887                  0.0                    0.0                  0.0   \n",
       "88888                  0.0                    1.0                  0.0   \n",
       "\n",
       "      Total.Uninjured Weather.Condition  Broad.phase.of.flight  \\\n",
       "0                 0.0               UNK                 Cruise   \n",
       "1                 0.0               UNK                Unknown   \n",
       "2                 NaN               IMC                 Cruise   \n",
       "3                 0.0               IMC                 Cruise   \n",
       "4                 0.0               VMC               Approach   \n",
       "...               ...               ...                    ...   \n",
       "88884             0.0               NaN                    NaN   \n",
       "88885             0.0               NaN                    NaN   \n",
       "88886             1.0               VMC                    NaN   \n",
       "88887             0.0               NaN                    NaN   \n",
       "88888             1.0               NaN                    NaN   \n",
       "\n",
       "        Report.Status Publication.Date  \n",
       "0      Probable Cause              NaN  \n",
       "1      Probable Cause       19-09-1996  \n",
       "2      Probable Cause       26-02-2007  \n",
       "3      Probable Cause       12-09-2000  \n",
       "4      Probable Cause       16-04-1980  \n",
       "...               ...              ...  \n",
       "88884             NaN       29-12-2022  \n",
       "88885             NaN              NaN  \n",
       "88886             NaN       27-12-2022  \n",
       "88887             NaN              NaN  \n",
       "88888             NaN       30-12-2022  \n",
       "\n",
       "[88889 rows x 31 columns]"
      ]
     },
     "execution_count": 2,
     "metadata": {},
     "output_type": "execute_result"
    }
   ],
   "source": [
    "#Loading our dataset\n",
    "df = pd.read_csv(r'AviationData.csv',encoding='latin-1',low_memory=False)\n",
    "df"
   ]
  },
  {
   "cell_type": "code",
   "execution_count": 3,
   "metadata": {},
   "outputs": [
    {
     "name": "stdout",
     "output_type": "stream",
     "text": [
      "<class 'pandas.core.frame.DataFrame'>\n",
      "RangeIndex: 88889 entries, 0 to 88888\n",
      "Data columns (total 31 columns):\n",
      " #   Column                  Non-Null Count  Dtype  \n",
      "---  ------                  --------------  -----  \n",
      " 0   Event.Id                88889 non-null  object \n",
      " 1   Investigation.Type      88889 non-null  object \n",
      " 2   Accident.Number         88889 non-null  object \n",
      " 3   Event.Date              88889 non-null  object \n",
      " 4   Location                88837 non-null  object \n",
      " 5   Country                 88663 non-null  object \n",
      " 6   Latitude                34382 non-null  object \n",
      " 7   Longitude               34373 non-null  object \n",
      " 8   Airport.Code            50249 non-null  object \n",
      " 9   Airport.Name            52790 non-null  object \n",
      " 10  Injury.Severity         87889 non-null  object \n",
      " 11  Aircraft.damage         85695 non-null  object \n",
      " 12  Aircraft.Category       32287 non-null  object \n",
      " 13  Registration.Number     87572 non-null  object \n",
      " 14  Make                    88826 non-null  object \n",
      " 15  Model                   88797 non-null  object \n",
      " 16  Amateur.Built           88787 non-null  object \n",
      " 17  Number.of.Engines       82805 non-null  float64\n",
      " 18  Engine.Type             81812 non-null  object \n",
      " 19  FAR.Description         32023 non-null  object \n",
      " 20  Schedule                12582 non-null  object \n",
      " 21  Purpose.of.flight       82697 non-null  object \n",
      " 22  Air.carrier             16648 non-null  object \n",
      " 23  Total.Fatal.Injuries    77488 non-null  float64\n",
      " 24  Total.Serious.Injuries  76379 non-null  float64\n",
      " 25  Total.Minor.Injuries    76956 non-null  float64\n",
      " 26  Total.Uninjured         82977 non-null  float64\n",
      " 27  Weather.Condition       84397 non-null  object \n",
      " 28  Broad.phase.of.flight   61724 non-null  object \n",
      " 29  Report.Status           82508 non-null  object \n",
      " 30  Publication.Date        75118 non-null  object \n",
      "dtypes: float64(5), object(26)\n",
      "memory usage: 21.0+ MB\n"
     ]
    }
   ],
   "source": [
    "#Using .info() to understand the nature of our dataset\n",
    "df.info()\n"
   ]
  },
  {
   "cell_type": "markdown",
   "id": "df9bc260",
   "metadata": {},
   "source": [
    "From the .info we are able to see our columns and we can also note the columns with missing values.The dataset has several colums some of which are not relevant to our our project. We are going to create another dataframe with the columns that are more relevant to what we ainterested in."
   ]
  },
  {
   "cell_type": "code",
   "execution_count": 4,
   "id": "5c450aea",
   "metadata": {},
   "outputs": [
    {
     "data": {
      "text/plain": [
       "(88889, 31)"
      ]
     },
     "execution_count": 4,
     "metadata": {},
     "output_type": "execute_result"
    }
   ],
   "source": [
    "# Using .shape to know get the number of columns and rows our dataset has\n",
    "df.shape"
   ]
  },
  {
   "cell_type": "markdown",
   "id": "7051036f",
   "metadata": {},
   "source": [
    "**2.DATA CLEANING**\n",
    "\n",
    "This will include data preparation, dealing with missing values, dropping columns that are not soo relevant to what we are looking for."
   ]
  },
  {
   "cell_type": "code",
   "execution_count": 5,
   "id": "e2ca2624",
   "metadata": {},
   "outputs": [],
   "source": [
    "#Dropping columns with limited predictive value\n",
    "#We will create another dataframe that will not have the dropped columns. This will prevent us from tampering with the original dataset\n",
    "df_2 = df.drop(['Latitude','Longitude','FAR.Description','Air.carrier', 'Schedule','Aircraft.Category','Airport.Code','Airport.Name','Publication.Date'],axis=1)\n"
   ]
  },
  {
   "cell_type": "markdown",
   "id": "29683136",
   "metadata": {},
   "source": [
    "In the codecell above we have dropped some collumns that have limited value to what we are trying to achieve. In the codecell bellow we have added some columns that are going to help us in our next step of data analysis and visualizations"
   ]
  },
  {
   "cell_type": "code",
   "execution_count": 6,
   "id": "2267bb3a",
   "metadata": {},
   "outputs": [],
   "source": [
    "#Adding a column that combines make and model to make one airplane identifier\n",
    "df_2['Aircraft_type'] = df_2['Make'] + df_2['Model']\n",
    "\n",
    "#Adding a column that shows a total of taotal passangers on board\n",
    "df_2['Total_aboard'] = df_2['Total.Fatal.Injuries']+df_2['Total.Serious.Injuries']+df_2['Total.Minor.Injuries']+df_2['Total.Uninjured']\n",
    "\n",
    "#Adding a column to show how many were injured\n",
    "df_2['Total_injuired'] = df_2['Total.Fatal.Injuries']+df_2['Total.Serious.Injuries']+df_2['Total.Minor.Injuries']\n",
    "\n",
    "#Calculating the fatality rate \n",
    "df_2['Injury_rate'] = df_2['Total_injuired']/df_2['Total_aboard']\n"
   ]
  },
  {
   "cell_type": "code",
   "execution_count": 7,
   "id": "78fdb6a6",
   "metadata": {},
   "outputs": [
    {
     "name": "stdout",
     "output_type": "stream",
     "text": [
      "<class 'pandas.core.frame.DataFrame'>\n",
      "RangeIndex: 88889 entries, 0 to 88888\n",
      "Data columns (total 26 columns):\n",
      " #   Column                  Non-Null Count  Dtype  \n",
      "---  ------                  --------------  -----  \n",
      " 0   Event.Id                88889 non-null  object \n",
      " 1   Investigation.Type      88889 non-null  object \n",
      " 2   Accident.Number         88889 non-null  object \n",
      " 3   Event.Date              88889 non-null  object \n",
      " 4   Location                88837 non-null  object \n",
      " 5   Country                 88663 non-null  object \n",
      " 6   Injury.Severity         87889 non-null  object \n",
      " 7   Aircraft.damage         85695 non-null  object \n",
      " 8   Registration.Number     87572 non-null  object \n",
      " 9   Make                    88826 non-null  object \n",
      " 10  Model                   88797 non-null  object \n",
      " 11  Amateur.Built           88787 non-null  object \n",
      " 12  Number.of.Engines       82805 non-null  float64\n",
      " 13  Engine.Type             81812 non-null  object \n",
      " 14  Purpose.of.flight       82697 non-null  object \n",
      " 15  Total.Fatal.Injuries    77488 non-null  float64\n",
      " 16  Total.Serious.Injuries  76379 non-null  float64\n",
      " 17  Total.Minor.Injuries    76956 non-null  float64\n",
      " 18  Total.Uninjured         82977 non-null  float64\n",
      " 19  Weather.Condition       84397 non-null  object \n",
      " 20  Broad.phase.of.flight   61724 non-null  object \n",
      " 21  Report.Status           82508 non-null  object \n",
      " 22  Aircraft_type           88777 non-null  object \n",
      " 23  Total_aboard            74359 non-null  float64\n",
      " 24  Total_injuired          74423 non-null  float64\n",
      " 25  Injury_rate             73276 non-null  float64\n",
      "dtypes: float64(8), object(18)\n",
      "memory usage: 17.6+ MB\n"
     ]
    }
   ],
   "source": [
    "#Cheking our new dataframe after dropping and adding columns \n",
    "df_2.info()"
   ]
  },
  {
   "cell_type": "markdown",
   "id": "7a3de580",
   "metadata": {},
   "source": [
    "**Dealing with missing values**\n",
    "\n",
    "Our dataframe has several columns with missing values, we are going to deal with each column to ensure we dont get some trouble when working with our data. We will work on missing values in our relevant columns which include ,Total_injuired,Injury_rate,Total_aboard,Aircraft_type,Number.of.Engines,Engine.Type,Location."
   ]
  },
  {
   "cell_type": "code",
   "execution_count": 8,
   "id": "11cd40f4",
   "metadata": {},
   "outputs": [],
   "source": [
    "#Dealing with missing values in numerical columns.They include;Total_injuired,Injury_rate,Total_aboard,Number.of.Engines\n",
    "columns = ['Total_injuired','Injury_rate','Total_aboard','Number.of.Engines']\n",
    "df_2[columns] = df_2[columns].apply(lambda x: x.fillna(x.mean()))\n",
    "\n",
    "#Dealing with missing values in categorical columns.They include;Engine.Type,Aircraft_type & Location\n",
    "cols =['Engine.Type','Aircraft_type','Location','Broad.phase.of.flight']\n",
    "df_2[cols] = df_2[cols].apply(lambda col: col.fillna(col.mode()[0]))\n",
    "\n",
    "#Type of engine column cleaning\n",
    "df_2['Engine.Type'] = df_2['Engine.Type'].replace('NONE','None')\n",
    "\n",
    "#Weather condition column cleaning\n",
    "df_2['Weather.Condition'] = df_2['Weather.Condition'].replace('Unk','UNK')\n",
    "\n"
   ]
  },
  {
   "cell_type": "code",
   "execution_count": 9,
   "id": "fa7deefd",
   "metadata": {},
   "outputs": [
    {
     "data": {
      "text/plain": [
       "Event.Id                      0\n",
       "Investigation.Type            0\n",
       "Accident.Number               0\n",
       "Event.Date                    0\n",
       "Location                      0\n",
       "Country                     226\n",
       "Injury.Severity            1000\n",
       "Aircraft.damage            3194\n",
       "Registration.Number        1317\n",
       "Make                         63\n",
       "Model                        92\n",
       "Amateur.Built               102\n",
       "Number.of.Engines             0\n",
       "Engine.Type                   0\n",
       "Purpose.of.flight          6192\n",
       "Total.Fatal.Injuries      11401\n",
       "Total.Serious.Injuries    12510\n",
       "Total.Minor.Injuries      11933\n",
       "Total.Uninjured            5912\n",
       "Weather.Condition          4492\n",
       "Broad.phase.of.flight         0\n",
       "Report.Status              6381\n",
       "Aircraft_type                 0\n",
       "Total_aboard                  0\n",
       "Total_injuired                0\n",
       "Injury_rate                   0\n",
       "dtype: int64"
      ]
     },
     "execution_count": 9,
     "metadata": {},
     "output_type": "execute_result"
    }
   ],
   "source": [
    "#Checking the number of missing values \n",
    "df_2.isna().sum()"
   ]
  },
  {
   "cell_type": "markdown",
   "id": "a7d046c5",
   "metadata": {},
   "source": [
    "Now we have cleaned out the relevant columns  in our dataset. We have worked on all our missing values. We could not have dropped all the missing values. they would have made a great impact on our dataset since they are many. We have replaced the mising values in numerical columns with the mean, and the object colomns we have kept the missing values but replaced them with mode. We have worked on the missing values in columns that are consequential to our task."
   ]
  },
  {
   "cell_type": "markdown",
   "id": "174acc3b",
   "metadata": {},
   "source": [
    "**QUESTION 1**\n",
    "\n",
    "**Identify plane engine types, model and makes that are riskiest.**\n",
    "\n",
    "To answer this question we are going to plot the engine type vs the injury rate and the aircraft type vs the injury rate. From this we are going to find out the engine type with the most accidents and the aircraft type with the highest injury rate\n",
    "\n"
   ]
  },
  {
   "cell_type": "code",
   "execution_count": 10,
   "id": "fefc9019",
   "metadata": {},
   "outputs": [
    {
     "data": {
      "image/png": "[encoded data removed]",
      "text/plain": [
       "<Figure size 432x288 with 2 Axes>"
      ]
     },
     "metadata": {
      "needs_background": "light"
     },
     "output_type": "display_data"
    }
   ],
   "source": [
    "\n",
    "#Airplane engines with least injury rate\n",
    "Grouped = df_2.groupby('Engine.Type')['Injury_rate'].mean().sort_values(ascending=True)\n",
    "\n",
    "#Airplane mode & model with most accidents\n",
    "Grouped_1 = df_2.groupby(['Aircraft_type'])['Injury_rate'].count().sort_values(ascending=False).head(10)\n",
    "\n",
    "#Create subplots\n",
    "fig,axs = plt.subplots(nrows=1,ncols=2)\n",
    "\n",
    "#Plotting first subplot\n",
    "Grouped.plot(kind ='bar', ax = axs[0],color = 'brown')\n",
    "axs[0].set_title('Engine Type vs injury rate')\n",
    "axs[0].set_xlabel('Engine type')\n",
    "axs[0].set_ylabel('injury rate')\n",
    "\n",
    "\n",
    "#Plotting second subplot\n",
    "Grouped_1.plot(kind='bar', ax = axs[1])\n",
    "axs[1].set_title('Aircraft Type vs injury rate')\n",
    "axs[1].set_xlabel('Aircraft Type')\n",
    "axs[1].set_ylabel('injury rate')\n",
    "\n",
    "\n",
    "#Adjust layout\n",
    "plt.tight_layout()\n",
    "\n",
    "plt.savefig('Images/engine_type.png');\n",
    "\n",
    "\n"
   ]
  },
  {
   "cell_type": "markdown",
   "id": "77ca76c3",
   "metadata": {},
   "source": [
    "From the bar graph above, we can see the engine types with the the least injury rates as well as the ones with the most injury rate"
   ]
  },
  {
   "cell_type": "markdown",
   "id": "0b8cff0d",
   "metadata": {},
   "source": [
    "**QUESTION 2**\n",
    "\n",
    "**Identify which weather condition contribute to most accidents.**\n",
    "\n",
    "For over the years weather has been known to be one of the major factors that course arcraft accidents. We will use our dataset to understand which weather condition is the riskiest for air travel. We will use a bar chart to visualize this.\n",
    "\n"
   ]
  },
  {
   "cell_type": "code",
   "execution_count": 11,
   "id": "b22f6f25",
   "metadata": {},
   "outputs": [
    {
     "data": {
      "image/png": "[encoded data removed]",
      "text/plain": [
       "<Figure size 432x288 with 1 Axes>"
      ]
     },
     "metadata": {
      "needs_background": "light"
     },
     "output_type": "display_data"
    }
   ],
   "source": [
    "#Weather counts\n",
    "weather_cond = df_2['Weather.Condition'].value_counts()\n",
    "\n",
    "\n",
    "#Creating a bargraph\n",
    "weather_cond.plot(kind = 'bar',title = 'No of accidents per weather',xlabel= 'Weather condition',ylabel= 'No of accidents',color =['red','green','yellow'])\n",
    "\n",
    "plt.savefig('Images/weather_conditions.png');"
   ]
  },
  {
   "cell_type": "markdown",
   "id": "80c4cd95",
   "metadata": {},
   "source": [
    "**QUESTION 3**\n",
    "\n",
    "**Identify most risky locations where accidents are most severe**\n",
    "\n",
    "We will plot location against the injury rate to see the locations where accidents are most severe"
   ]
  },
  {
   "cell_type": "code",
   "execution_count": 12,
   "id": "c07d7171",
   "metadata": {},
   "outputs": [
    {
     "data": {
      "image/png": "[encoded data removed]",
      "text/plain": [
       "<Figure size 432x288 with 1 Axes>"
      ]
     },
     "metadata": {
      "needs_background": "light"
     },
     "output_type": "display_data"
    }
   ],
   "source": [
    "#Group our data by location\n",
    "Grouped_2 = df_2.groupby('Location')['Injury_rate'].sum().sort_values(ascending=False)\n",
    "\n",
    "#Plot a bar graph, for 10 locations with highest injury rate\n",
    "Grouped_2.head(10).plot(kind='bar',title='Location vs Injury rate',xlabel='Location',ylabel='Injury rate')\n",
    "plt.savefig('Images/location.png');\n",
    "\n"
   ]
  },
  {
   "cell_type": "markdown",
   "id": "c367a5a1",
   "metadata": {},
   "source": [
    "**Trends over years**\n",
    "\n",
    "We are going to see how the trends have been over the years using a line graph. "
   ]
  },
  {
   "cell_type": "code",
   "execution_count": 13,
   "id": "8c5f3b51",
   "metadata": {},
   "outputs": [
    {
     "data": {
      "image/png": "[encoded data removed]",
      "text/plain": [
       "<Figure size 432x288 with 1 Axes>"
      ]
     },
     "metadata": {
      "needs_background": "light"
     },
     "output_type": "display_data"
    }
   ],
   "source": [
    "#Convert the date column to datetime format\n",
    "df_2['Event.Date'] = pd.to_datetime(df_2['Event.Date'])\n",
    "\n",
    "#We will extract the year from our Event.Date column\n",
    "df_2['year'] = df_2['Event.Date'].dt.year\n",
    "\n",
    "#We then calculate number of accidents per year\n",
    "Acc_per_year = df_2['year'].value_counts().sort_index()\n",
    "\n",
    "#We visualize in a lineplot\n",
    "Acc_per_year.plot(kind = 'line',color = 'magenta',marker = '.',xlabel='Year',ylabel='Number of accidents',title='Trends of accident over the years')\n",
    "plt.savefig('Images/trends_over_years.png');\n"
   ]
  },
  {
   "cell_type": "markdown",
   "id": "3996d7c9",
   "metadata": {},
   "source": [
    "**SUMMARY**\n",
    "\n",
    "We have been able to discover several things in aviation industry thanks to our data and our visualizations that have painted out a clear picture. \n",
    "\n",
    "Aviation industry is noticeably lucrative, mostly because it serves many purposes. However its an industry with risks and from our lineplot on the trends of accidents over time, the accidents are still rampant, though decreasing in number as from 1980. To thrive in the business, we will have to ensure our accident rate is as low as possible.Every accident is a loss, and as a start up, we cannot bear to incur losses. Accidents can also dent our reputation so ensuring safe flights should be ur priority.\n",
    "\n",
    " There are soo many risks in the business, we have only highlighted three, and have come up with the following recommendations;\n",
    "\n",
    " 1. All engine types have recorded accidents but the Turbo Fan engine has the least number of injury rates. Its a safer engine as compared to the rest.If we purchase arcrafts with this kind of engines then we are assured of safer flights.Cessna 152, and Cessna 172 have the highest have the highest number of accidents. Its probably because they are the most purchased make. We can choose to avoid this models for safer flights\n",
    "\n",
    "2. We have to be on the lookout on weather.From our data we got a very interesting find,contrary to what we know that bad weather causes most accidents, our data states differently.The VMC - Visual Metrological Condition,which involves clear skies no heavy rains and clear visibility, has the highest number of accidents. This shows that mostly, its not really about the weather, its about the pilot, the engine type, the plane model and make etc. Also soo many planes are in the air during this time. Setting up proper control departments to monitor the routes would help mitigate this risk. Also competent pilots should be hired\n",
    "\n",
    "3. There are geographical locations that have very high injury rate. When a plane crushes there the results are more fatal. From the bar chart top 10 locations are sighted, top of them being,Ankorage Ak. Avoiding such routes would put us at a  lower risk."
   ]
  }
 ],
 "metadata": {
  "kernelspec": {
   "display_name": "learn-env",
   "language": "python",
   "name": "python3"
  },
  "language_info": {
   "codemirror_mode": {
    "name": "ipython",
    "version": 3
   },
   "file_extension": ".py",
   "mimetype": "text/x-python",
   "name": "python",
   "nbconvert_exporter": "python",
   "pygments_lexer": "ipython3",
   "version": "3.8.5"
  }
 },
 "nbformat": 4,
 "nbformat_minor": 5
}
